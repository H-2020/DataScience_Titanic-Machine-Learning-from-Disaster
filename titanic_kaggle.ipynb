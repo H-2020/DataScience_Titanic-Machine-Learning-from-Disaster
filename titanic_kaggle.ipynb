{
 "cells": [
  {
   "cell_type": "markdown",
   "metadata": {},
   "source": [
    "Libraries Importing"
   ]
  },
  {
   "cell_type": "code",
   "execution_count": 1,
   "metadata": {},
   "outputs": [],
   "source": [
    "import numpy as np\n",
    "import pandas as pd\n",
    "import gc\n",
    "import time\n",
    "from contextlib import contextmanager\n",
    "from sklearn.metrics import roc_auc_score\n",
    "from sklearn import preprocessing\n",
    "from sklearn.model_selection import train_test_split, GridSearchCV\n",
    "from sklearn.model_selection import train_test_split\n",
    "from sklearn.metrics import accuracy_score\n",
    "from sklearn.ensemble import GradientBoostingClassifier\n",
    "from lightgbm import LGBMClassifier\n",
    "from xgboost import XGBClassifier\n",
    "\n",
    "# to ignore warnings:\n",
    "import warnings\n",
    "warnings.filterwarnings('ignore')\n",
    "\n",
    "# to display all columns:\n",
    "pd.set_option('display.max_columns', None)"
   ]
  },
  {
   "cell_type": "markdown",
   "metadata": {},
   "source": [
    "# Help Functions"
   ]
  },
  {
   "cell_type": "code",
   "execution_count": 2,
   "metadata": {},
   "outputs": [],
   "source": [
    "@contextmanager\n",
    "def timer(title):\n",
    "    t0 = time.time()\n",
    "    yield\n",
    "    print(\"{} - done in {:.0f}s\".format(title, time.time() - t0))"
   ]
  },
  {
   "cell_type": "markdown",
   "metadata": {},
   "source": [
    "# Data Preprocessing"
   ]
  },
  {
   "cell_type": "code",
   "execution_count": 3,
   "metadata": {},
   "outputs": [],
   "source": [
    "def data_preprocessing():\n",
    "\n",
    "    train = pd.read_csv(\"train.csv\")\n",
    "    test = pd.read_csv(\"test.csv\")\n",
    "\n",
    "    train = train.drop(['Ticket'], axis = 1)\n",
    "    test = test.drop(['Ticket'], axis = 1)\n",
    "\n",
    "    train['Fare'] = train['Fare'].replace(512.3292, 300)\n",
    "    test['Fare'] = test['Fare'].replace(512.3292, 300)\n",
    "\n",
    "    train[\"Age\"] = train[\"Age\"].fillna(train[\"Age\"].mean())\n",
    "    test[\"Age\"] = test[\"Age\"].fillna(test[\"Age\"].mean())\n",
    "\n",
    "    # Fill NA with the most frequent value:\n",
    "    train[\"Embarked\"] = train[\"Embarked\"].fillna(\"S\")\n",
    "    test[\"Embarked\"] = test[\"Embarked\"].fillna(\"S\")\n",
    "\n",
    "    test[\"Fare\"] = test[\"Fare\"].fillna(12)\n",
    "\n",
    "    train[\"CabinBool\"] = (train[\"Cabin\"].notnull().astype('int'))\n",
    "    test[\"CabinBool\"] = (test[\"Cabin\"].notnull().astype('int'))\n",
    "\n",
    "    train = train.drop(['Cabin'], axis = 1)\n",
    "    test = test.drop(['Cabin'], axis = 1)\n",
    "\n",
    "    # Map each Embarked value to a numerical value:\n",
    "    embarked_mapping = {\"S\": 1, \"C\": 2, \"Q\": 3}\n",
    "\n",
    "    train['Embarked'] = train['Embarked'].map(embarked_mapping)\n",
    "    test['Embarked'] = test['Embarked'].map(embarked_mapping)\n",
    "\n",
    "    \n",
    "    lbe = preprocessing.LabelEncoder()\n",
    "    \n",
    "    train[\"Sex\"] = lbe.fit_transform(train[\"Sex\"])\n",
    "    test[\"Sex\"] = lbe.fit_transform(test[\"Sex\"])\n",
    "\n",
    "    train[\"Title\"] = train[\"Name\"].str.extract(' ([A-Za-z]+)\\.', expand=False)\n",
    "    test[\"Title\"] = test[\"Name\"].str.extract(' ([A-Za-z]+)\\.', expand=False)\n",
    "\n",
    "    train['Title'] = train['Title'].replace(['Lady', 'Capt', 'Col','Don', 'Dr', 'Major', 'Rev', 'Jonkheer', 'Dona'], 'Rare')\n",
    "    train['Title'] = train['Title'].replace(['Countess', 'Lady', 'Sir'], 'Royal')\n",
    "    train['Title'] = train['Title'].replace('Mlle', 'Miss')\n",
    "    train['Title'] = train['Title'].replace('Ms', 'Miss')\n",
    "    train['Title'] = train['Title'].replace('Mme', 'Mrs')\n",
    "\n",
    "    test['Title'] = test['Title'].replace(['Lady', 'Capt', 'Col','Don', 'Dr', 'Major', 'Rev', 'Jonkheer', 'Dona'], 'Rare')\n",
    "    test['Title'] = test['Title'].replace(['Countess', 'Lady', 'Sir'], 'Royal')\n",
    "    test['Title'] = test['Title'].replace('Mlle', 'Miss')\n",
    "    test['Title'] = test['Title'].replace('Ms', 'Miss')\n",
    "    test['Title'] = test['Title'].replace('Mme', 'Mrs')\n",
    "\n",
    "    train[[\"Title\",\"PassengerId\"]].groupby(\"Title\").count()\n",
    "    train[['Title', 'Survived']].groupby(['Title'], as_index=False).mean()\n",
    "\n",
    "    # Map each of the title groups to a numerical value\n",
    "    title_mapping = {\"Mr\": 1, \"Miss\": 2, \"Mrs\": 3, \"Master\": 4, \"Royal\": 5, \"Rare\": 5}\n",
    "\n",
    "    train['Title'] = train['Title'].map(title_mapping)\n",
    "    test['Title'] = test['Title'].map(title_mapping)\n",
    "\n",
    "    train = train.drop(['Name'], axis = 1)\n",
    "    test = test.drop(['Name'], axis = 1)\n",
    "\n",
    "    bins = [0, 5, 12, 18, 24, 35, 60, np.inf]\n",
    "    \n",
    "    mylabels = ['Baby', 'Child', 'Teenager', 'Student', 'Young Adult', 'Adult', 'Senior']\n",
    "    \n",
    "    train['AgeGroup'] = pd.cut(train[\"Age\"], bins, labels = mylabels)\n",
    "    test['AgeGroup'] = pd.cut(test[\"Age\"], bins, labels = mylabels)\n",
    "\n",
    "    # Map each Age value to a numerical value:\n",
    "    age_mapping = {'Baby': 1, 'Child': 2, 'Teenager': 3, 'Student': 4, 'Young Adult': 5, 'Adult': 6, 'Senior': 7}\n",
    "    \n",
    "    train['AgeGroup'] = train['AgeGroup'].map(age_mapping)\n",
    "    test['AgeGroup'] = test['AgeGroup'].map(age_mapping)\n",
    "    \n",
    "    \n",
    "    # after mapping AgeGroup and FareBand values change from category to numeric\n",
    "    train['AgeGroup'] = pd.to_numeric(train['AgeGroup'])\n",
    "    train['FareBand'] = pd.to_numeric(train['FareBand'])\n",
    "    test['AgeGroup'] = pd.to_numeric(test['AgeGroup'])\n",
    "    test['FareBand'] = pd.to_numeric(test['FareBand'])\n",
    "    \n",
    "\n",
    "    #dropping the Age feature for now, might change:\n",
    "    train = train.drop(['Age'], axis = 1)\n",
    "    test = test.drop(['Age'], axis = 1)\n",
    "\n",
    "    # Map Fare values into groups of numerical values:\n",
    "    train['FareBand'] = pd.qcut(train['Fare'], 4, labels = [1, 2, 3, 4])\n",
    "    test['FareBand'] = pd.qcut(test['Fare'], 4, labels = [1, 2, 3, 4])\n",
    "\n",
    "    # Drop Fare values:\n",
    "    train = train.drop(['Fare'], axis = 1)\n",
    "    test = test.drop(['Fare'], axis = 1)\n",
    "\n",
    "    print(\"Data Preprocessing Process Has Been Finished\\n\")\n",
    "    \n",
    "    return train, test"
   ]
  },
  {
   "cell_type": "markdown",
   "metadata": {},
   "source": [
    "# Feature Engineering"
   ]
  },
  {
   "cell_type": "code",
   "execution_count": 4,
   "metadata": {},
   "outputs": [],
   "source": [
    "def feature_engineering(train, test):\n",
    "    \n",
    "    train[\"FamilySize\"] = train[\"SibSp\"] + train[\"Parch\"] + 1\n",
    "    test[\"FamilySize\"] = test[\"SibSp\"] + test[\"Parch\"] + 1\n",
    "\n",
    "    # Create new feature of family size:\n",
    "    train['Single'] = train['FamilySize'].map(lambda s: 1 if s == 1 else 0)\n",
    "    train['SmallFam'] = train['FamilySize'].map(lambda s: 1 if  s == 2  else 0)\n",
    "    train['MedFam'] = train['FamilySize'].map(lambda s: 1 if 3 <= s <= 4 else 0)\n",
    "    train['LargeFam'] = train['FamilySize'].map(lambda s: 1 if s >= 5 else 0)\n",
    "\n",
    "     # Create new feature of family size:\n",
    "    test['Single'] = test['FamilySize'].map(lambda s: 1 if s == 1 else 0)\n",
    "    test['SmallFam'] = test['FamilySize'].map(lambda s: 1 if  s == 2  else 0)\n",
    "    test['MedFam'] = test['FamilySize'].map(lambda s: 1 if 3 <= s <= 4 else 0)\n",
    "    test['LargeFam'] = test['FamilySize'].map(lambda s: 1 if s >= 5 else 0)\n",
    "\n",
    "     # Convert Title and Embarked into dummy variables:\n",
    "    train = pd.get_dummies(train, columns = [\"Title\"])\n",
    "    train = pd.get_dummies(train, columns = [\"Embarked\"], prefix=\"Em\")\n",
    "\n",
    "    test = pd.get_dummies(test, columns = [\"Title\"])\n",
    "    test = pd.get_dummies(test, columns = [\"Embarked\"], prefix=\"Em\")\n",
    "\n",
    "    # Create categorical values for Pclass:\n",
    "    train[\"Pclass\"] = train[\"Pclass\"].astype(\"category\")\n",
    "    train = pd.get_dummies(train, columns = [\"Pclass\"],prefix=\"Pc\")\n",
    "\n",
    "    test[\"Pclass\"] = test[\"Pclass\"].astype(\"category\")\n",
    "    test = pd.get_dummies(test, columns = [\"Pclass\"],prefix=\"Pc\")\n",
    "    \n",
    "    \n",
    "    print(\"Feature Engineering Process Has Been Finished\\n\")\n",
    "    \n",
    "    return train, test\n"
   ]
  },
  {
   "cell_type": "code",
   "execution_count": null,
   "metadata": {},
   "outputs": [],
   "source": []
  },
  {
   "cell_type": "markdown",
   "metadata": {},
   "source": [
    "# Model"
   ]
  },
  {
   "cell_type": "code",
   "execution_count": 5,
   "metadata": {},
   "outputs": [],
   "source": [
    "def gbm_model(train):\n",
    "\n",
    "    X = train.drop(['Survived', 'PassengerId'], axis=1)\n",
    "    Y = train[\"Survived\"]\n",
    "    x_train, x_test, y_train, y_test = train_test_split(X, Y, test_size = 0.20, random_state = 42)\n",
    "\n",
    "\n",
    "    gbm = GradientBoostingClassifier()\n",
    "\n",
    "    gbm_params = {\n",
    "            'n_estimators': [200, 500],\n",
    "            'subsample': [1.0],\n",
    "            'max_depth': [8],\n",
    "            'learning_rate': [0.01,0.02],\n",
    "            \"min_samples_split\": [10]}\n",
    "\n",
    "    gbm_cv_model = GridSearchCV(gbm, gbm_params, cv = 10, n_jobs = -1, verbose = 5)\n",
    "\n",
    "    gbm_cv_model.fit(x_train, y_train)\n",
    "\n",
    "    print(gbm_cv_model.best_params_ , \"\\n\")\n",
    "\n",
    "    gbm_tuned = GradientBoostingClassifier(learning_rate = gbm_cv_model.best_params_[\"learning_rate\"], \n",
    "                        max_depth = gbm_cv_model.best_params_[\"max_depth\"],\n",
    "                        min_samples_split = gbm_cv_model.best_params_[\"min_samples_split\"],\n",
    "                        n_estimators = gbm_cv_model.best_params_[\"n_estimators\"],\n",
    "                        subsample = gbm_cv_model.best_params_[\"subsample\"])\n",
    "\n",
    "    gbm_tuned.fit(x_train, y_train)\n",
    "\n",
    "    y_pred = gbm_tuned.predict(x_test)\n",
    "    print(\"Accuracy Score of Your Model:\")\n",
    "    print(round(accuracy_score(y_pred, y_test) * 100, 2))\n",
    "    \n",
    "    return gbm_tuned"
   ]
  },
  {
   "cell_type": "code",
   "execution_count": 6,
   "metadata": {},
   "outputs": [],
   "source": [
    "# acc_gbc = round(accuracy_score(y_pred, y_test) * 100, 2)\n",
    "# print(acc_gbc) 83.8"
   ]
  },
  {
   "cell_type": "code",
   "execution_count": 7,
   "metadata": {},
   "outputs": [],
   "source": [
    "# def lgbm_model(train):\n",
    "\n",
    "#     X = train.drop(['Survived', 'PassengerId'], axis=1)\n",
    "#     Y = train[\"Survived\"]\n",
    "#     x_train, x_test, y_train, y_test = train_test_split(X, Y, test_size = 0.20, random_state = 42)\n",
    "\n",
    "    \n",
    "#     lgbm = LGBMClassifier()\n",
    "\n",
    "#     lgbm_params = {\n",
    "#         'colsample_bytree': [0.4, 0.5,0.6,0.9,1],\n",
    "#         'learning_rate': [0.01, 0.1, 0.5,1],\n",
    "#         'n_estimators': [20, 40, 100, 200, 500,1000],\n",
    "#         'max_depth': [1,2,3,4,5,6,7,8] }\n",
    "\n",
    "#     lgbm_cv_model = GridSearchCV(lgbm, lgbm_params, cv = 10, n_jobs = -1, verbose = 5)\n",
    "\n",
    "#     lgbm_cv_model.fit(x_train, y_train)\n",
    "\n",
    "#     print(lgbm_cv_model.best_params_ , \"\\n\")\n",
    "\n",
    "#     lgbm_tuned = LGBMClassifier(learning_rate = lgbm_cv_model.best_params_[\"learning_rate\"], \n",
    "#                         max_depth = lgbm_cv_model.best_params_[\"max_depth\"],\n",
    "#                         n_estimators = lgbm_cv_model.best_params_[\"n_estimators\"],\n",
    "#                         colsample_bytree = lgbm_cv_model.best_params_[\"colsample_bytree\"])\n",
    "\n",
    "#     lgbm_tuned.fit(x_train, y_train)\n",
    "\n",
    "#     y_pred = lgbm_tuned.predict(x_test)\n",
    "#     print(\"Accuracy Score of Your Model:\")\n",
    "#     print(round(accuracy_score(y_pred, y_test) * 100, 2))\n",
    "    \n",
    "#     return lgbm_tuned"
   ]
  },
  {
   "cell_type": "code",
   "execution_count": 8,
   "metadata": {},
   "outputs": [],
   "source": [
    "# LGBM Accuracy Score of Your Model: 82.12\n",
    "# Create Model - done in 590s"
   ]
  },
  {
   "cell_type": "code",
   "execution_count": 9,
   "metadata": {},
   "outputs": [],
   "source": [
    "# def xgb_model(train):\n",
    "\n",
    "#     X = train.drop(['Survived', 'PassengerId'], axis=1)\n",
    "#     Y = train[\"Survived\"]\n",
    "#     x_train, x_test, y_train, y_test = train_test_split(X, Y, test_size = 0.20, random_state = 42)\n",
    "\n",
    "    \n",
    "#     xgb = XGBClassifier()\n",
    "\n",
    "#     xgb_params = {\n",
    "#          'colsample_bytree': [0.4, 0.5,0.6,0.9,1], \n",
    "#          'n_estimators':[100, 200, 500, 1000],\n",
    "#          'max_depth': [2,3,4,5,6],\n",
    "#          'learning_rate': [0.1, 0.01, 0.5] }\n",
    "\n",
    "#     xgb_cv_model = GridSearchCV(xgb, xgb_params, cv = 10, n_jobs = -1, verbose = 5)\n",
    "\n",
    "#     xgb_cv_model.fit(x_train, y_train)\n",
    "\n",
    "#     print(xgb_cv_model.best_params_ , \"\\n\")\n",
    "\n",
    "#     xgb_tuned = XGBClassifier(learning_rate = xgb_cv_model.best_params_[\"learning_rate\"], \n",
    "#                         max_depth = xgb_cv_model.best_params_[\"max_depth\"],\n",
    "#                         n_estimators = xgb_cv_model.best_params_[\"n_estimators\"],\n",
    "#                         colsample_bytree = xgb_cv_model.best_params_[\"colsample_bytree\"])\n",
    "\n",
    "#     xgb_tuned.fit(x_train, y_train)\n",
    "\n",
    "#     y_pred = xgb_tuned.predict(x_test)\n",
    "#     print(\"Accuracy Score of Your Model:\")\n",
    "#     print(round(accuracy_score(y_pred, y_test) * 100, 2))\n",
    "    \n",
    "#     return xgb_tuned"
   ]
  },
  {
   "cell_type": "code",
   "execution_count": 10,
   "metadata": {},
   "outputs": [],
   "source": [
    "# XGBoost Accuracy Score of Your Model: 82.68\n",
    "# Create Model - done in 1354s"
   ]
  },
  {
   "cell_type": "markdown",
   "metadata": {},
   "source": [
    "# Submission"
   ]
  },
  {
   "cell_type": "code",
   "execution_count": 11,
   "metadata": {},
   "outputs": [],
   "source": [
    "def submission(gbm_tuned, test):\n",
    "    \n",
    "    #set ids as PassengerId and predict survival \n",
    "    ids = test['PassengerId']\n",
    "\n",
    "    predictions = gbm_tuned.predict(test.drop('PassengerId', axis=1))\n",
    "\n",
    "    #set the output as a dataframe and convert to csv file named submission.csv\n",
    "    output = pd.DataFrame({ 'PassengerId' : ids, 'Survived': predictions })\n",
    "    \n",
    "    output.to_csv('submission.csv', index=False)\n",
    "    print(\"Submission file has been created\")"
   ]
  },
  {
   "cell_type": "code",
   "execution_count": null,
   "metadata": {},
   "outputs": [],
   "source": []
  },
  {
   "cell_type": "markdown",
   "metadata": {},
   "source": [
    "# Main"
   ]
  },
  {
   "cell_type": "code",
   "execution_count": 12,
   "metadata": {},
   "outputs": [],
   "source": [
    "def main():\n",
    "    \n",
    "    with timer(\"Pre processing Time\"):\n",
    "        train, test = data_preprocessing()\n",
    "    \n",
    "    with timer(\"Feature Engineering\"):\n",
    "        train, test = feature_engineering(train, test)\n",
    "        \n",
    "    with timer(\"Create Model\"):\n",
    "        gbm_tuned = gbm_model(train)\n",
    "        \n",
    "    with timer(\"Submission\"):\n",
    "        submission(gbm_tuned, test)   \n",
    "\n"
   ]
  },
  {
   "cell_type": "code",
   "execution_count": 13,
   "metadata": {},
   "outputs": [
    {
     "name": "stdout",
     "output_type": "stream",
     "text": [
      "Data Preprocessing Process Has Been Finished\n",
      "\n",
      "Pre processing Time - done in 0s\n",
      "Feature Engineering Process Has Been Finished\n",
      "\n",
      "Feature Engineering - done in 0s\n",
      "Fitting 10 folds for each of 4 candidates, totalling 40 fits\n"
     ]
    },
    {
     "name": "stderr",
     "output_type": "stream",
     "text": [
      "[Parallel(n_jobs=-1)]: Using backend LokyBackend with 4 concurrent workers.\n",
      "[Parallel(n_jobs=-1)]: Done  10 tasks      | elapsed:    8.5s\n",
      "[Parallel(n_jobs=-1)]: Done  40 out of  40 | elapsed:   30.5s finished\n"
     ]
    },
    {
     "name": "stdout",
     "output_type": "stream",
     "text": [
      "{'learning_rate': 0.01, 'max_depth': 8, 'min_samples_split': 10, 'n_estimators': 200, 'subsample': 1.0} \n",
      "\n",
      "Accuracy Score of Your Model:\n",
      "83.8\n",
      "Create Model - done in 33s\n",
      "Submission file has been created\n",
      "Submission - done in 0s\n",
      "Full model run - done in 33s\n"
     ]
    }
   ],
   "source": [
    "if __name__ == \"__main__\":\n",
    "    with timer(\"Full model run\"):\n",
    "        main()"
   ]
  }
 ],
 "metadata": {
  "kernelspec": {
   "display_name": "Python 3",
   "language": "python",
   "name": "python3"
  },
  "language_info": {
   "codemirror_mode": {
    "name": "ipython",
    "version": 3
   },
   "file_extension": ".py",
   "mimetype": "text/x-python",
   "name": "python",
   "nbconvert_exporter": "python",
   "pygments_lexer": "ipython3",
   "version": "3.7.4"
  }
 },
 "nbformat": 4,
 "nbformat_minor": 4
}
